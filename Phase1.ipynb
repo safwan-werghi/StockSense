{
 "cells": [
  {
   "cell_type": "code",
   "execution_count": 8,
   "metadata": {},
   "outputs": [
    {
     "name": "stderr",
     "output_type": "stream",
     "text": [
      "[*********************100%***********************]  1 of 1 completed"
     ]
    },
    {
     "name": "stdout",
     "output_type": "stream",
     "text": [
      "Shape of close_prices: (756, 1)\n",
      "Shape of close_prices after flattening: (756,)\n",
      "\n",
      "First few rows with indicators:\n",
      "Price           Close       SMA       RSI      MACD MACD_signal MACD_hist\n",
      "Ticker           AAPL                                                    \n",
      "Date                                                                     \n",
      "2020-02-20  77.730087  0.129498  0.483962  0.955805    1.123804 -0.167999\n",
      "2020-02-21  75.970680  0.130282  0.360644  0.729543    1.044951 -0.315409\n",
      "2020-02-24  72.362030  0.129487  0.172179  0.256088    0.887179 -0.631091\n",
      "2020-02-25  69.910950  0.127892  0.078148 -0.313298    0.647083 -0.960382\n",
      "2020-02-26  71.019989  0.126144  0.155312 -0.667358    0.384195 -1.051553\n",
      "\n",
      "RMSE: 2.7440714331833242\n",
      "R-squared: 0.9341269843368437\n"
     ]
    },
    {
     "name": "stderr",
     "output_type": "stream",
     "text": [
      "\n"
     ]
    }
   ],
   "source": [
    "# Install required libraries\n",
    "# Run these commands in your terminal or command prompt:\n",
    "# pip install yfinance talib scikit-learn numpy pandas\n",
    "\n",
    "# Import libraries\n",
    "import yfinance as yf\n",
    "import talib\n",
    "import numpy as np\n",
    "import pandas as pd\n",
    "from sklearn.preprocessing import MinMaxScaler\n",
    "from sklearn.linear_model import LinearRegression\n",
    "from sklearn.metrics import mean_squared_error, r2_score\n",
    "\n",
    "# Fetch historical data for Apple (AAPL)\n",
    "ticker = \"AAPL\"\n",
    "data = yf.download(ticker, start=\"2020-01-01\", end=\"2023-01-01\")\n",
    "\n",
    "# Convert the 'Close' column to a NumPy array\n",
    "close_prices = data['Close'].values\n",
    "print(f\"Shape of close_prices: {close_prices.shape}\")\n",
    "\n",
    "# Flatten the array (though it's already 1D, this ensures it)\n",
    "close_prices = close_prices.flatten()\n",
    "print(f\"Shape of close_prices after flattening: {close_prices.shape}\")\n",
    "\n",
    "# Calculate technical indicators using TA-Lib\n",
    "data['SMA'] = talib.SMA(close_prices, timeperiod=30)  # 30-day SMA\n",
    "data['RSI'] = talib.RSI(close_prices, timeperiod=14)  # 14-day RSI\n",
    "data['MACD'], data['MACD_signal'], data['MACD_hist'] = talib.MACD(close_prices)  # MACD\n",
    "\n",
    "# Drop rows with missing values (due to rolling window calculations)\n",
    "data.dropna(inplace=True)\n",
    "\n",
    "# Normalize the features (SMA and RSI)\n",
    "scaler = MinMaxScaler()\n",
    "data[['SMA', 'RSI']] = scaler.fit_transform(data[['SMA', 'RSI']])\n",
    "\n",
    "# Prepare features (X) and target (y)\n",
    "X = data[['SMA', 'RSI']]  # Features: SMA and RSI\n",
    "y = data['Close']         # Target: Close price\n",
    "\n",
    "# Split the data chronologically (train on first 80%, test on last 20%)\n",
    "train_size = int(len(data) * 0.8)\n",
    "X_train, X_test = X[:train_size], X[train_size:]\n",
    "y_train, y_test = y[:train_size], y[train_size:]\n",
    "\n",
    "# Initialize the model\n",
    "model = LinearRegression()\n",
    "\n",
    "# Train the model\n",
    "model.fit(X_train, y_train)\n",
    "\n",
    "# Make predictions\n",
    "y_pred = model.predict(X_test)\n",
    "\n",
    "# Calculate RMSE and R-squared\n",
    "rmse = np.sqrt(mean_squared_error(y_test, y_pred))\n",
    "r2 = r2_score(y_test, y_pred)\n",
    "\n",
    "# Display results\n",
    "print(\"\\nFirst few rows with indicators:\")\n",
    "print(data[['Close', 'SMA', 'RSI', 'MACD', 'MACD_signal', 'MACD_hist']].head())\n",
    "print(f\"\\nRMSE: {rmse}\")\n",
    "print(f\"R-squared: {r2}\")"
   ]
  }
 ],
 "metadata": {
  "kernelspec": {
   "display_name": "Python 3",
   "language": "python",
   "name": "python3"
  },
  "language_info": {
   "codemirror_mode": {
    "name": "ipython",
    "version": 3
   },
   "file_extension": ".py",
   "mimetype": "text/x-python",
   "name": "python",
   "nbconvert_exporter": "python",
   "pygments_lexer": "ipython3",
   "version": "3.13.2"
  }
 },
 "nbformat": 4,
 "nbformat_minor": 2
}
